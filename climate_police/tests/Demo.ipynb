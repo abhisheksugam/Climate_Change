{
 "cells": [
  {
   "cell_type": "code",
   "execution_count": 1,
   "metadata": {
    "collapsed": false
   },
   "outputs": [
    {
     "name": "stderr",
     "output_type": "stream",
     "text": [
      "C:\\Program Files\\Miniconda3\\lib\\site-packages\\IPython\\html.py:14: ShimWarning:\n",
      "\n",
      "The `IPython.html` package has been deprecated. You should import from `notebook` instead. `IPython.html.widgets` has moved to `ipywidgets`.\n",
      "\n"
     ]
    }
   ],
   "source": [
    "import wget\n",
    "import os\n",
    "import zipfile\n",
    "import urllib3\n",
    "import certifi\n",
    "\n",
    "\n",
    "import numpy as np\n",
    "import pandas as pd\n",
    "\n",
    "%matplotlib inline\n",
    "\n",
    "import plotly.offline as py\n",
    "import plotly.tools as tls\n",
    "import seaborn as sns"
   ]
  },
  {
   "cell_type": "code",
   "execution_count": 2,
   "metadata": {
    "collapsed": false
   },
   "outputs": [
    {
     "ename": "SyntaxError",
     "evalue": "invalid syntax (temperature.py, line 65)",
     "output_type": "error",
     "traceback": [
      "\u001b[0;36m  File \u001b[0;32m\"C:\\Users\\abhis\\OneDrive\\UW Mech\\CSE 599 B1 Project\\climate_police\\tests\\temperature.py\"\u001b[0;36m, line \u001b[0;32m65\u001b[0m\n\u001b[0;31m    def graph()\u001b[0m\n\u001b[0m               ^\u001b[0m\n\u001b[0;31mSyntaxError\u001b[0m\u001b[0;31m:\u001b[0m invalid syntax\n"
     ]
    }
   ],
   "source": [
    "from temperature import get_temperature_data"
   ]
  },
  {
   "cell_type": "code",
   "execution_count": null,
   "metadata": {
    "collapsed": false
   },
   "outputs": [],
   "source": [
    "get_temperature_data()"
   ]
  },
  {
   "cell_type": "code",
   "execution_count": null,
   "metadata": {
    "collapsed": false
   },
   "outputs": [],
   "source": [
    "remove_data()"
   ]
  },
  {
   "cell_type": "code",
   "execution_count": null,
   "metadata": {
    "collapsed": true
   },
   "outputs": [],
   "source": [
    "#Cleaning up data by removing duplicate names  \n",
    "global_temp_country_clean = global_temp_country[~global_temp_country['Country'].isin(\n",
    "    ['Denmark', 'Antarctica', 'France', 'Europe', 'Netherlands',\n",
    "     'United Kingdom', 'Africa', 'South America'])]\n",
    "\n",
    "global_temp_country_clean = global_temp_country_clean.replace(\n",
    "   ['Denmark (Europe)', 'France (Europe)', 'Netherlands (Europe)', 'United Kingdom (Europe)'],\n",
    "   ['Denmark', 'France', 'Netherlands', 'United Kingdom'])\n",
    "\n",
    "#Let's average temperature for each country\n",
    "\n",
    "countries = np.unique(global_temp_country_clean['Country'])\n",
    "mean_temp = []\n",
    "for country in countries:\n",
    "    mean_temp.append(global_temp_country_clean[global_temp_country_clean['Country'] == \n",
    "                                               country]['AverageTemperature'].mean())\n",
    "\n",
    "\n",
    "    \n",
    "data = [ dict(\n",
    "        type = 'choropleth',\n",
    "        locations = countries,\n",
    "        z = mean_temp,\n",
    "        locationmode = 'country names',\n",
    "        text = countries,\n",
    "        marker = dict(\n",
    "            line = dict(color = 'rgb(0,0,0)', width = 1)),\n",
    "            colorbar = dict(autotick = True, tickprefix = '', \n",
    "            title = '# Average\\nTemperature,\\n°C')\n",
    "            )\n",
    "       ]\n",
    "\n",
    "layout = dict(\n",
    "    title = 'Average land temperature in countries',\n",
    "    geo = dict(\n",
    "        showframe = False,\n",
    "        showocean = True,\n",
    "        oceancolor = 'rgb(0,255,255)',\n",
    "        projection = dict(\n",
    "        type = 'orthographic',\n",
    "            rotation = dict(\n",
    "                    lon = 60,\n",
    "                    lat = 10),\n",
    "        ),\n",
    "        lonaxis =  dict(\n",
    "                showgrid = True,\n",
    "                gridcolor = 'rgb(102, 102, 102)'\n",
    "            ),\n",
    "        lataxis = dict(\n",
    "                showgrid = True,\n",
    "                gridcolor = 'rgb(102, 102, 102)'\n",
    "                )\n",
    "            ),\n",
    "        )\n",
    "\n",
    "fig = dict(data=data, layout=layout)\n",
    "py.iplot(fig, validate=False, filename='worldmap')\n"
   ]
  },
  {
   "cell_type": "code",
   "execution_count": null,
   "metadata": {
    "collapsed": false
   },
   "outputs": [],
   "source": [
    "from temperature import remove_data"
   ]
  },
  {
   "cell_type": "code",
   "execution_count": null,
   "metadata": {
    "collapsed": true
   },
   "outputs": [],
   "source": []
  },
  {
   "cell_type": "code",
   "execution_count": null,
   "metadata": {
    "collapsed": true
   },
   "outputs": [],
   "source": []
  }
 ],
 "metadata": {
  "kernelspec": {
   "display_name": "Python 3",
   "language": "python",
   "name": "python3"
  },
  "language_info": {
   "codemirror_mode": {
    "name": "ipython",
    "version": 3
   },
   "file_extension": ".py",
   "mimetype": "text/x-python",
   "name": "python",
   "nbconvert_exporter": "python",
   "pygments_lexer": "ipython3",
   "version": "3.5.2"
  }
 },
 "nbformat": 4,
 "nbformat_minor": 1
}
