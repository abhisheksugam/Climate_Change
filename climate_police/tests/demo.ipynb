{
 "cells": [
  {
   "cell_type": "code",
   "execution_count": 1,
   "metadata": {
    "collapsed": false
   },
   "outputs": [
    {
     "name": "stderr",
     "output_type": "stream",
     "text": [
      "C:\\Program Files\\Miniconda3\\lib\\site-packages\\IPython\\html.py:14: ShimWarning:\n",
      "\n",
      "The `IPython.html` package has been deprecated. You should import from `notebook` instead. `IPython.html.widgets` has moved to `ipywidgets`.\n",
      "\n"
     ]
    }
   ],
   "source": [
    "import wget\n",
    "import os\n",
    "import zipfile\n",
    "\n",
    "import urllib3\n",
    "import certifi\n",
    "import sys\n",
    "import glob\n",
    "\n",
    "import numpy as np\n",
    "import pandas as pd\n",
    "\n",
    "import matplotlib.pyplot as plt\n",
    "import plotly.offline as py\n",
    "import plotly.graph_objs as go\n",
    "import plotly.tools as tls\n",
    "import seaborn as sns"
   ]
  },
  {
   "cell_type": "code",
   "execution_count": 2,
   "metadata": {
    "collapsed": false
   },
   "outputs": [],
   "source": [
    "from temperature import get_temperature_data"
   ]
  },
  {
   "cell_type": "code",
   "execution_count": 3,
   "metadata": {
    "collapsed": false
   },
   "outputs": [],
   "source": [
    "#get_temperature_data()"
   ]
  },
  {
   "cell_type": "code",
   "execution_count": 4,
   "metadata": {
    "collapsed": false
   },
   "outputs": [],
   "source": [
    "from temperature import global_temp_country"
   ]
  },
  {
   "cell_type": "code",
   "execution_count": 5,
   "metadata": {
    "collapsed": false
   },
   "outputs": [],
   "source": [
    "#global_temp_country()"
   ]
  },
  {
   "cell_type": "code",
   "execution_count": 9,
   "metadata": {
    "collapsed": true
   },
   "outputs": [],
   "source": [
    "# couldn't downlaod data through functions hence manually downlaoding data\n",
    "global_temp_country=pd.read_csv('GlobalLandTemperaturesByCountry.csv')"
   ]
  },
  {
   "cell_type": "code",
   "execution_count": 11,
   "metadata": {
    "collapsed": false
   },
   "outputs": [
    {
     "ename": "PlotlyError",
     "evalue": "Plotly Offline mode has not been initialized in this notebook. Run: \n\nimport plotly\nplotly.offline.init_notebook_mode() # run at the start of every ipython notebook",
     "output_type": "error",
     "traceback": [
      "\u001b[0;31m---------------------------------------------------------------------------\u001b[0m",
      "\u001b[0;31mPlotlyError\u001b[0m                               Traceback (most recent call last)",
      "\u001b[0;32m<ipython-input-11-099e9ae6ee19>\u001b[0m in \u001b[0;36m<module>\u001b[0;34m()\u001b[0m\n\u001b[1;32m     58\u001b[0m \u001b[1;33m\u001b[0m\u001b[0m\n\u001b[1;32m     59\u001b[0m \u001b[0mfig\u001b[0m \u001b[1;33m=\u001b[0m \u001b[0mdict\u001b[0m\u001b[1;33m(\u001b[0m\u001b[0mdata\u001b[0m\u001b[1;33m=\u001b[0m\u001b[0mdata\u001b[0m\u001b[1;33m,\u001b[0m \u001b[0mlayout\u001b[0m\u001b[1;33m=\u001b[0m\u001b[0mlayout\u001b[0m\u001b[1;33m)\u001b[0m\u001b[1;33m\u001b[0m\u001b[0m\n\u001b[0;32m---> 60\u001b[0;31m \u001b[0mpy\u001b[0m\u001b[1;33m.\u001b[0m\u001b[0miplot\u001b[0m\u001b[1;33m(\u001b[0m\u001b[0mfig\u001b[0m\u001b[1;33m,\u001b[0m \u001b[0mvalidate\u001b[0m\u001b[1;33m=\u001b[0m\u001b[1;32mFalse\u001b[0m\u001b[1;33m,\u001b[0m \u001b[0mfilename\u001b[0m\u001b[1;33m=\u001b[0m\u001b[1;34m'worldmap'\u001b[0m\u001b[1;33m)\u001b[0m\u001b[1;33m\u001b[0m\u001b[0m\n\u001b[0m",
      "\u001b[0;32mC:\\Program Files\\Miniconda3\\lib\\site-packages\\plotly\\offline\\offline.py\u001b[0m in \u001b[0;36miplot\u001b[0;34m(figure_or_data, show_link, link_text, validate, image, filename, image_width, image_height)\u001b[0m\n\u001b[1;32m    283\u001b[0m             \u001b[1;34m''\u001b[0m\u001b[1;33m,\u001b[0m\u001b[1;33m\u001b[0m\u001b[0m\n\u001b[1;32m    284\u001b[0m             \u001b[1;34m'import plotly'\u001b[0m\u001b[1;33m,\u001b[0m\u001b[1;33m\u001b[0m\u001b[0m\n\u001b[0;32m--> 285\u001b[0;31m             \u001b[1;34m'plotly.offline.init_notebook_mode() '\u001b[0m\u001b[1;33m\u001b[0m\u001b[0m\n\u001b[0m\u001b[1;32m    286\u001b[0m             \u001b[1;34m'# run at the start of every ipython notebook'\u001b[0m\u001b[1;33m,\u001b[0m\u001b[1;33m\u001b[0m\u001b[0m\n\u001b[1;32m    287\u001b[0m         ]))\n",
      "\u001b[0;31mPlotlyError\u001b[0m: Plotly Offline mode has not been initialized in this notebook. Run: \n\nimport plotly\nplotly.offline.init_notebook_mode() # run at the start of every ipython notebook"
     ]
    }
   ],
   "source": [
    "    # First of all we need to clean all data to be presentatble, so we clean the global_temp_country data\n",
    "    #Cleaning data & plotting average land temperature\n",
    "    \n",
    "    global_temp_country_clean = global_temp_country[~global_temp_country['Country'].isin(\n",
    "    ['Denmark', 'Antarctica', 'France', 'Europe', 'Netherlands',\n",
    "     'United Kingdom', 'Africa', 'South America'])]\n",
    "\n",
    "    global_temp_country_clean = global_temp_country_clean.replace(\n",
    "       ['Denmark (Europe)', 'France (Europe)', 'Netherlands (Europe)', 'United Kingdom (Europe)'],\n",
    "       ['Denmark', 'France', 'Netherlands', 'United Kingdom'])\n",
    "\n",
    "    #Let's average temperature for each country\n",
    "\n",
    "    countries = np.unique(global_temp_country_clean['Country'])\n",
    "    mean_temp = []\n",
    "    for country in countries:\n",
    "        mean_temp.append(global_temp_country_clean[global_temp_country_clean['Country'] ==\n",
    "                                                   country]['AverageTemperature'].mean())\n",
    "\n",
    "\n",
    "# using plotly choropleth graph for average land temperature\n",
    "\n",
    "    data = [ dict(\n",
    "            type = 'choropleth',\n",
    "            locations = countries,\n",
    "            z = mean_temp,\n",
    "            locationmode = 'country names',\n",
    "            text = countries,\n",
    "            marker = dict(\n",
    "                line = dict(color = 'rgb(0,0,0)', width = 1)),\n",
    "                colorbar = dict(autotick = True, tickprefix = '',\n",
    "                title = '# Average\\nTemperature,\\n°C')\n",
    "                )\n",
    "           ]\n",
    "\n",
    "    layout = dict(\n",
    "        title = 'Average land temperature in countries',\n",
    "        geo = dict(\n",
    "            showframe = False,\n",
    "            showocean = True,\n",
    "            oceancolor = 'rgb(0,255,255)',\n",
    "            projection = dict(\n",
    "            type = 'orthographic',\n",
    "                rotation = dict(\n",
    "                        lon = 60,\n",
    "                        lat = 10),\n",
    "            ),\n",
    "            lonaxis =  dict(\n",
    "                    showgrid = True,\n",
    "                    gridcolor = 'rgb(102, 102, 102)'\n",
    "                ),\n",
    "            lataxis = dict(\n",
    "                    showgrid = True,\n",
    "                    gridcolor = 'rgb(102, 102, 102)'\n",
    "                    )\n",
    "                ),\n",
    "            )\n",
    "\n",
    "    fig = dict(data=data, layout=layout)\n",
    "    py.iplot(fig, validate=False, filename='worldmap')"
   ]
  },
  {
   "cell_type": "code",
   "execution_count": null,
   "metadata": {
    "collapsed": true
   },
   "outputs": [],
   "source": []
  }
 ],
 "metadata": {
  "kernelspec": {
   "display_name": "Python 3",
   "language": "python",
   "name": "python3"
  },
  "language_info": {
   "codemirror_mode": {
    "name": "ipython",
    "version": 3
   },
   "file_extension": ".py",
   "mimetype": "text/x-python",
   "name": "python",
   "nbconvert_exporter": "python",
   "pygments_lexer": "ipython3",
   "version": "3.5.2"
  }
 },
 "nbformat": 4,
 "nbformat_minor": 1
}
