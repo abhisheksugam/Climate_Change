{
 "cells": [
  {
   "cell_type": "markdown",
   "metadata": {},
   "source": [
    "# The U.S. Temperature Map"
   ]
  },
  {
   "cell_type": "code",
   "execution_count": 1,
   "metadata": {
    "collapsed": false
   },
   "outputs": [],
   "source": [
    "import zipfile\n",
    "import pandas as pd\n",
    "\n",
    "import warnings\n",
    "warnings.filterwarnings('ignore')\n",
    "\n",
    "from os import path\n",
    "import sys\n",
    "sys.path.append(path.abspath('../tests'))\n",
    "\n",
    "zf = zipfile.ZipFile('../data/GlobalLandTemperatures.zip')\n",
    "temp = pd.read_csv(zf.open('GlobalLandTemperaturesByState.csv'))"
   ]
  },
  {
   "cell_type": "markdown",
   "metadata": {},
   "source": [
    "### Display the temperature of a specific year for the U.S. states"
   ]
  },
  {
   "cell_type": "code",
   "execution_count": 4,
   "metadata": {
    "collapsed": false
   },
   "outputs": [
    {
     "data": {
      "text/html": [
       "<div id=\"dd4f2ed8-8103-4e66-8ede-091b9cbcbf66\" style=\"height: 525px; width: 100%;\" class=\"plotly-graph-div\"></div><script type=\"text/javascript\">require([\"plotly\"], function(Plotly) { window.PLOTLYENV=window.PLOTLYENV || {};window.PLOTLYENV.BASE_URL=\"https://plot.ly\";Plotly.newPlot(\"dd4f2ed8-8103-4e66-8ede-091b9cbcbf66\", [{\"type\": \"choropleth\", \"text\": [\"Alaska<br>Average Temperature: -4.2932 \\u00b0C\", \"Alabama<br>Average Temperature: 17.2868 \\u00b0C\", \"Arkansas<br>Average Temperature: 16.1082 \\u00b0C\", \"Arizona<br>Average Temperature: 15.8242 \\u00b0C\", \"California<br>Average Temperature: 14.6626 \\u00b0C\", \"Colorado<br>Average Temperature: 7.6612 \\u00b0C\", \"Connecticut<br>Average Temperature: 9.2677 \\u00b0C\", \"Delaware<br>Average Temperature: 12.2081 \\u00b0C\", \"Florida<br>Average Temperature: 21.6735 \\u00b0C\", \"Hawaii<br>Average Temperature: 23.0282 \\u00b0C\", \"Iowa<br>Average Temperature: 9.4218 \\u00b0C\", \"Idaho<br>Average Temperature: 5.9152 \\u00b0C\", \"Illinois<br>Average Temperature: 11.1106 \\u00b0C\", \"Indiana<br>Average Temperature: 10.8387 \\u00b0C\", \"Kansas<br>Average Temperature: 13.0614 \\u00b0C\", \"Kentucky<br>Average Temperature: 12.9446 \\u00b0C\", \"Louisiana<br>Average Temperature: 19.3088 \\u00b0C\", \"Massachusetts<br>Average Temperature: 7.825 \\u00b0C\", \"Maryland<br>Average Temperature: 12.3816 \\u00b0C\", \"Maine<br>Average Temperature: 4.3437 \\u00b0C\", \"Michigan<br>Average Temperature: 6.4475 \\u00b0C\", \"Minnesota<br>Average Temperature: 5.2108 \\u00b0C\", \"Missouri<br>Average Temperature: 13.0266 \\u00b0C\", \"Mississippi<br>Average Temperature: 17.7475 \\u00b0C\", \"Montana<br>Average Temperature: 5.8238 \\u00b0C\", \"North Carolina<br>Average Temperature: 14.7863 \\u00b0C\", \"North Dakota<br>Average Temperature: 5.3388 \\u00b0C\", \"Nebraska<br>Average Temperature: 9.9931 \\u00b0C\", \"New Hampshire<br>Average Temperature: 5.6589 \\u00b0C\", \"New Jersey<br>Average Temperature: 10.9517 \\u00b0C\", \"New Mexico<br>Average Temperature: 12.4007 \\u00b0C\", \"Nevada<br>Average Temperature: 10.2648 \\u00b0C\", \"New York<br>Average Temperature: 7.1939 \\u00b0C\", \"Ohio<br>Average Temperature: 10.1086 \\u00b0C\", \"Oklahoma<br>Average Temperature: 16.193 \\u00b0C\", \"Oregon<br>Average Temperature: 8.5114 \\u00b0C\", \"Pennsylvania<br>Average Temperature: 9.1674 \\u00b0C\", \"Rhode Island<br>Average Temperature: 9.2246 \\u00b0C\", \"South Carolina<br>Average Temperature: 17.0519 \\u00b0C\", \"South Dakota<br>Average Temperature: 8.224 \\u00b0C\", \"Tennessee<br>Average Temperature: 14.2483 \\u00b0C\", \"Texas<br>Average Temperature: 18.5537 \\u00b0C\", \"Utah<br>Average Temperature: 9.0274 \\u00b0C\", \"Virginia<br>Average Temperature: 12.8948 \\u00b0C\", \"Vermont<br>Average Temperature: 5.389 \\u00b0C\", \"Washington<br>Average Temperature: 7.7816 \\u00b0C\", \"Wisconsin<br>Average Temperature: 6.2973 \\u00b0C\", \"West Virginia<br>Average Temperature: 10.8081 \\u00b0C\", \"Wyoming<br>Average Temperature: 5.8158 \\u00b0C\"], \"z\": [-4.2932, 17.2868, 16.1082, 15.8242, 14.6626, 7.6612, 9.2677, 12.2081, 21.6735, 23.0282, 9.4218, 5.9152, 11.1106, 10.8387, 13.0614, 12.9446, 19.3088, 7.825, 12.3816, 4.3437, 6.4475, 5.2108, 13.0266, 17.7475, 5.8238, 14.7863, 5.3388, 9.9931, 5.6589, 10.9517, 12.4007, 10.2648, 7.1939, 10.1086, 16.193, 8.5114, 9.1674, 9.2246, 17.0519, 8.224, 14.2483, 18.5537, 9.0274, 12.8948, 5.389, 7.7816, 6.2973, 10.8081, 5.8158], \"marker\": {\"line\": {\"color\": \"rgb(255,255,255)\", \"width\": 2}}, \"colorbar\": {\"title\": \"\\u00b0C\"}, \"locations\": [\"AK\", \"AL\", \"AR\", \"AZ\", \"CA\", \"CO\", \"CT\", \"DE\", \"FL\", \"HI\", \"IA\", \"ID\", \"IL\", \"IN\", \"KS\", \"KY\", \"LA\", \"MA\", \"MD\", \"ME\", \"MI\", \"MN\", \"MO\", \"MS\", \"MT\", \"NC\", \"ND\", \"NE\", \"NH\", \"NJ\", \"NM\", \"NV\", \"NY\", \"OH\", \"OK\", \"OR\", \"PA\", \"RI\", \"SC\", \"SD\", \"TN\", \"TX\", \"UT\", \"VA\", \"VT\", \"WA\", \"WI\", \"WV\", \"WY\"], \"locationmode\": \"USA-states\", \"autocolorscale\": true}], {\"title\": \"1980 US Average Temperature by State<br>(Hover for details)\", \"geo\": {\"projection\": {\"type\": \"albers usa\"}, \"scope\": \"usa\", \"lakecolor\": \"rgb(255, 255, 255)\", \"showlakes\": true}}, {\"showLink\": true, \"linkText\": \"Export to plot.ly\"})});</script>"
      ],
      "text/plain": [
       "<IPython.core.display.HTML object>"
      ]
     },
     "metadata": {},
     "output_type": "display_data"
    }
   ],
   "source": [
    "from temp_map import temp_map\n",
    "\n",
    "# Specify a year (1900-2013)\n",
    "year = '1980'\n",
    "\n",
    "fig1 = temp_map(temp, year)"
   ]
  },
  {
   "cell_type": "markdown",
   "metadata": {},
   "source": [
    "### Temperature change over years (comparing a year with 2013)"
   ]
  },
  {
   "cell_type": "code",
   "execution_count": 5,
   "metadata": {
    "collapsed": false
   },
   "outputs": [
    {
     "data": {
      "text/html": [
       "<div id=\"af24f03f-83f7-49ed-953c-bb2baffb633a\" style=\"height: 525px; width: 100%;\" class=\"plotly-graph-div\"></div><script type=\"text/javascript\">require([\"plotly\"], function(Plotly) { window.PLOTLYENV=window.PLOTLYENV || {};window.PLOTLYENV.BASE_URL=\"https://plot.ly\";Plotly.newPlot(\"af24f03f-83f7-49ed-953c-bb2baffb633a\", [{\"type\": \"choropleth\", \"text\": [\"Alaska<br>Temperature Change: 2.2328 \\u00b0C\", \"Alabama<br>Temperature Change: 1.6698 \\u00b0C\", \"Arkansas<br>Temperature Change: 1.3979 \\u00b0C\", \"Arizona<br>Temperature Change: 1.989 \\u00b0C\", \"California<br>Temperature Change: 2.1828 \\u00b0C\", \"Colorado<br>Temperature Change: 1.7419 \\u00b0C\", \"Connecticut<br>Temperature Change: 2.3292 \\u00b0C\", \"Delaware<br>Temperature Change: 1.8359 \\u00b0C\", \"Florida<br>Temperature Change: 1.3602 \\u00b0C\", \"Hawaii<br>Temperature Change: -0.5058 \\u00b0C\", \"Iowa<br>Temperature Change: 1.6903 \\u00b0C\", \"Idaho<br>Temperature Change: 2.624 \\u00b0C\", \"Illinois<br>Temperature Change: 1.8984 \\u00b0C\", \"Indiana<br>Temperature Change: 2.2197 \\u00b0C\", \"Kansas<br>Temperature Change: 1.5733 \\u00b0C\", \"Kentucky<br>Temperature Change: 1.995 \\u00b0C\", \"Louisiana<br>Temperature Change: 1.6539 \\u00b0C\", \"Massachusetts<br>Temperature Change: 2.7006 \\u00b0C\", \"Maryland<br>Temperature Change: 1.8862 \\u00b0C\", \"Maine<br>Temperature Change: 3.1615 \\u00b0C\", \"Michigan<br>Temperature Change: 2.2836 \\u00b0C\", \"Minnesota<br>Temperature Change: 1.6346 \\u00b0C\", \"Missouri<br>Temperature Change: 1.3842 \\u00b0C\", \"Mississippi<br>Temperature Change: 1.6962 \\u00b0C\", \"Montana<br>Temperature Change: 2.6338 \\u00b0C\", \"North Carolina<br>Temperature Change: 1.7577 \\u00b0C\", \"North Dakota<br>Temperature Change: 1.5951 \\u00b0C\", \"Nebraska<br>Temperature Change: 1.8139 \\u00b0C\", \"New Hampshire<br>Temperature Change: 3.1153 \\u00b0C\", \"New Jersey<br>Temperature Change: 2.0861 \\u00b0C\", \"New Mexico<br>Temperature Change: 1.8632 \\u00b0C\", \"Nevada<br>Temperature Change: 2.3682 \\u00b0C\", \"New York<br>Temperature Change: 2.7202 \\u00b0C\", \"Ohio<br>Temperature Change: 2.4727 \\u00b0C\", \"Oklahoma<br>Temperature Change: 1.3317 \\u00b0C\", \"Oregon<br>Temperature Change: 2.2522 \\u00b0C\", \"Pennsylvania<br>Temperature Change: 2.3758 \\u00b0C\", \"Rhode Island<br>Temperature Change: 2.3445 \\u00b0C\", \"South Carolina<br>Temperature Change: 1.6838 \\u00b0C\", \"South Dakota<br>Temperature Change: 1.549 \\u00b0C\", \"Tennessee<br>Temperature Change: 1.6636 \\u00b0C\", \"Texas<br>Temperature Change: 1.8715 \\u00b0C\", \"Utah<br>Temperature Change: 1.9575 \\u00b0C\", \"Virginia<br>Temperature Change: 1.8368 \\u00b0C\", \"Vermont<br>Temperature Change: 3.1082 \\u00b0C\", \"Washington<br>Temperature Change: 2.7902 \\u00b0C\", \"Wisconsin<br>Temperature Change: 1.788 \\u00b0C\", \"West Virginia<br>Temperature Change: 2.2213 \\u00b0C\", \"Wyoming<br>Temperature Change: 2.2253 \\u00b0C\"], \"z\": [2.2328, 1.6698, 1.3979, 1.989, 2.1828, 1.7419, 2.3292, 1.8359, 1.3602, -0.5058, 1.6903, 2.624, 1.8984, 2.2197, 1.5733, 1.995, 1.6539, 2.7006, 1.8862, 3.1615, 2.2836, 1.6346, 1.3842, 1.6962, 2.6338, 1.7577, 1.5951, 1.8139, 3.1153, 2.0861, 1.8632, 2.3682, 2.7202, 2.4727, 1.3317, 2.2522, 2.3758, 2.3445, 1.6838, 1.549, 1.6636, 1.8715, 1.9575, 1.8368, 3.1082, 2.7902, 1.788, 2.2213, 2.2253], \"marker\": {\"line\": {\"color\": \"rgb(255,255,255)\", \"width\": 2}}, \"colorbar\": {\"title\": \"\\u00b0C\"}, \"locations\": [\"AK\", \"AL\", \"AR\", \"AZ\", \"CA\", \"CO\", \"CT\", \"DE\", \"FL\", \"HI\", \"IA\", \"ID\", \"IL\", \"IN\", \"KS\", \"KY\", \"LA\", \"MA\", \"MD\", \"ME\", \"MI\", \"MN\", \"MO\", \"MS\", \"MT\", \"NC\", \"ND\", \"NE\", \"NH\", \"NJ\", \"NM\", \"NV\", \"NY\", \"OH\", \"OK\", \"OR\", \"PA\", \"RI\", \"SC\", \"SD\", \"TN\", \"TX\", \"UT\", \"VA\", \"VT\", \"WA\", \"WI\", \"WV\", \"WY\"], \"locationmode\": \"USA-states\", \"autocolorscale\": true}], {\"title\": \"US Temperature Change between 1980 and 2013 by State<br>(Hover for details)\", \"geo\": {\"projection\": {\"type\": \"albers usa\"}, \"scope\": \"usa\", \"lakecolor\": \"rgb(255, 255, 255)\", \"showlakes\": true}}, {\"showLink\": true, \"linkText\": \"Export to plot.ly\"})});</script>"
      ],
      "text/plain": [
       "<IPython.core.display.HTML object>"
      ]
     },
     "metadata": {},
     "output_type": "display_data"
    }
   ],
   "source": [
    "from temp_increase import temp_increase\n",
    "\n",
    "# From which year you'd like to compare (1900-2012)\n",
    "year = '1980'\n",
    "\n",
    "fig2 = temp_increase(temp, year)"
   ]
  },
  {
   "cell_type": "code",
   "execution_count": null,
   "metadata": {
    "collapsed": true
   },
   "outputs": [],
   "source": []
  }
 ],
 "metadata": {
  "anaconda-cloud": {},
  "kernelspec": {
   "display_name": "Python [default]",
   "language": "python",
   "name": "python3"
  },
  "language_info": {
   "codemirror_mode": {
    "name": "ipython",
    "version": 3
   },
   "file_extension": ".py",
   "mimetype": "text/x-python",
   "name": "python",
   "nbconvert_exporter": "python",
   "pygments_lexer": "ipython3",
   "version": "3.5.2"
  }
 },
 "nbformat": 4,
 "nbformat_minor": 1
}
