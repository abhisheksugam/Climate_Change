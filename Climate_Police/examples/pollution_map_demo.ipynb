{
 "cells": [
  {
   "cell_type": "markdown",
   "metadata": {},
   "source": [
    "# The U.S. Pollution Map"
   ]
  },
  {
   "cell_type": "code",
   "execution_count": 1,
   "metadata": {
    "collapsed": false
   },
   "outputs": [],
   "source": [
    "import pandas as pd\n",
    "\n",
    "df = pd.read_csv(\"../data/pollution_us_2000_2016.csv\")"
   ]
  },
  {
   "cell_type": "code",
   "execution_count": 2,
   "metadata": {
    "collapsed": false
   },
   "outputs": [],
   "source": [
    "from os import path\n",
    "import sys\n",
    "sys.path.append(path.abspath('../tests'))"
   ]
  },
  {
   "cell_type": "markdown",
   "metadata": {},
   "source": [
    "### Pollution map for specific pollutant, year and index"
   ]
  },
  {
   "cell_type": "code",
   "execution_count": 8,
   "metadata": {
    "collapsed": false
   },
   "outputs": [
    {
     "data": {
      "text/html": [
       "<div id=\"436e6ee5-3b94-457b-aba5-d596761a6988\" style=\"height: 525px; width: 100%;\" class=\"plotly-graph-div\"></div><script type=\"text/javascript\">require([\"plotly\"], function(Plotly) { window.PLOTLYENV=window.PLOTLYENV || {};window.PLOTLYENV.BASE_URL=\"https://plot.ly\";Plotly.newPlot(\"436e6ee5-3b94-457b-aba5-d596761a6988\", [{\"text\": [\"Arkansas<br>CO Mean 0.4434\", \"Arizona<br>CO Mean 0.4254\", \"California<br>CO Mean 0.3907\", \"Colorado<br>CO Mean 0.4055\", \"Connecticut<br>CO Mean 0.3439\", \"Florida<br>CO Mean 0.2235\", \"Iowa<br>CO Mean 0.2557\", \"Illinois<br>CO Mean 0.2755\", \"Indiana<br>CO Mean 0.4196\", \"Kansas<br>CO Mean 0.4024\", \"Louisiana<br>CO Mean 0.2833\", \"Massachusetts<br>CO Mean 0.1733\", \"Maryland<br>CO Mean 0.3829\", \"Maine<br>CO Mean 0.1647\", \"Missouri<br>CO Mean 0.3596\", \"North Carolina<br>CO Mean 0.3229\", \"North Dakota<br>CO Mean 0.1732\", \"New Hampshire<br>CO Mean 0.5076\", \"New Jersey<br>CO Mean 0.2371\", \"New York<br>CO Mean 0.3154\", \"Oklahoma<br>CO Mean 0.1524\", \"Oregon<br>CO Mean 0.3362\", \"Pennsylvania<br>CO Mean 0.1849\", \"South Carolina<br>CO Mean 0.1277\", \"Tennessee<br>CO Mean 0.2053\", \"Texas<br>CO Mean 0.2241\", \"Virginia<br>CO Mean 0.3486\", \"Wyoming<br>CO Mean 0.0661\"], \"type\": \"choropleth\", \"colorbar\": {\"title\": \"Parts per million\"}, \"locationmode\": \"USA-states\", \"autocolorscale\": true, \"locations\": [\"AR\", \"AZ\", \"CA\", \"CO\", \"CT\", \"FL\", \"IA\", \"IL\", \"IN\", \"KS\", \"LA\", \"MA\", \"MD\", \"ME\", \"MO\", \"NC\", \"ND\", \"NH\", \"NJ\", \"NY\", \"OK\", \"OR\", \"PA\", \"SC\", \"TN\", \"TX\", \"VA\", \"WY\"], \"z\": [0.4434, 0.4254, 0.3907, 0.4055, 0.3439, 0.2235, 0.2557, 0.2755, 0.4196, 0.4024, 0.2833, 0.1733, 0.3829, 0.1647, 0.3596, 0.3229, 0.1732, 0.5076, 0.2371, 0.3154, 0.1524, 0.3362, 0.1849, 0.1277, 0.2053, 0.2241, 0.3486, 0.0661], \"marker\": {\"line\": {\"width\": 2, \"color\": \"rgb(255,255,255)\"}}}], {\"geo\": {\"projection\": {\"type\": \"albers usa\"}, \"scope\": \"usa\", \"showlakes\": true, \"lakecolor\": \"rgb(255, 255, 255)\"}, \"title\": \"2008 US CO level by state<br>(Hover for details)\"}, {\"showLink\": true, \"linkText\": \"Export to plot.ly\"})});</script>"
      ],
      "text/plain": [
       "<IPython.core.display.HTML object>"
      ]
     },
     "metadata": {},
     "output_type": "display_data"
    }
   ],
   "source": [
    "source = 'CO' # options: NO2, O3, SO2 and CO\n",
    "year = '2008' # options: 2000 - 2016\n",
    "option = 'Mean' # options: Mean, AQI, 1st Max Value\n",
    "\n",
    "from pollution_map import pollution_map \n",
    "fig1 = pollution_map(df, source, year, option)"
   ]
  },
  {
   "cell_type": "markdown",
   "metadata": {},
   "source": [
    "### Pollution changes over the years (comparing with 2016)"
   ]
  },
  {
   "cell_type": "code",
   "execution_count": 6,
   "metadata": {
    "collapsed": false
   },
   "outputs": [
    {
     "data": {
      "text/html": [
       "<div id=\"03ea1519-f988-4d30-9bca-ec9a7b9f435b\" style=\"height: 525px; width: 100%;\" class=\"plotly-graph-div\"></div><script type=\"text/javascript\">require([\"plotly\"], function(Plotly) { window.PLOTLYENV=window.PLOTLYENV || {};window.PLOTLYENV.BASE_URL=\"https://plot.ly\";Plotly.newPlot(\"03ea1519-f988-4d30-9bca-ec9a7b9f435b\", [{\"text\": [\"Arkansas<br>CO Mean -0.1213\", \"Arizona<br>CO Mean 0.0429\", \"California<br>CO Mean -0.0303\", \"Colorado<br>CO Mean 0.046\", \"Connecticut<br>CO Mean nan\", \"Florida<br>CO Mean 0.3502\", \"Iowa<br>CO Mean -0.046\", \"Illinois<br>CO Mean 0.0338\", \"Indiana<br>CO Mean -0.1749\", \"Kansas<br>CO Mean -0.1498\", \"Louisiana<br>CO Mean -0.0504\", \"Massachusetts<br>CO Mean 0.0988\", \"Maryland<br>CO Mean -0.1346\", \"Maine<br>CO Mean 0.135\", \"Missouri<br>CO Mean -0.0364\", \"North Carolina<br>CO Mean -0.0757\", \"North Dakota<br>CO Mean 0.0127\", \"New Hampshire<br>CO Mean -0.2986\", \"New Jersey<br>CO Mean nan\", \"New York<br>CO Mean -0.0218\", \"Oklahoma<br>CO Mean 0.1251\", \"Oregon<br>CO Mean nan\", \"Pennsylvania<br>CO Mean -0.0899\", \"South Carolina<br>CO Mean 0.0304\", \"Tennessee<br>CO Mean -0.0191\", \"Texas<br>CO Mean 0.0032\", \"Virginia<br>CO Mean -0.0568\", \"Wyoming<br>CO Mean 0.0264\"], \"type\": \"choropleth\", \"colorbar\": {\"title\": \"Parts per million\"}, \"locationmode\": \"USA-states\", \"autocolorscale\": true, \"locations\": [\"AR\", \"AZ\", \"CA\", \"CO\", \"CT\", \"FL\", \"IA\", \"IL\", \"IN\", \"KS\", \"LA\", \"MA\", \"MD\", \"ME\", \"MO\", \"NC\", \"ND\", \"NH\", \"NJ\", \"NY\", \"OK\", \"OR\", \"PA\", \"SC\", \"TN\", \"TX\", \"VA\", \"WY\"], \"z\": [-0.1213, 0.0429, -0.0303, 0.046, null, 0.3502, -0.046, 0.0338, -0.1749, -0.1498, -0.0504, 0.0988, -0.1346, 0.135, -0.0364, -0.0757, 0.0127, -0.2986, null, -0.0218, 0.1251, null, -0.0899, 0.0304, -0.0191, 0.0032, -0.0568, 0.0264], \"marker\": {\"line\": {\"width\": 2, \"color\": \"rgb(255,255,255)\"}}}], {\"geo\": {\"projection\": {\"type\": \"albers usa\"}, \"scope\": \"usa\", \"showlakes\": true, \"lakecolor\": \"rgb(255, 255, 255)\"}, \"title\": \"2008 - 2016 US CO level change by state<br>(Hover for details)\"}, {\"showLink\": true, \"linkText\": \"Export to plot.ly\"})});</script>"
      ],
      "text/plain": [
       "<IPython.core.display.HTML object>"
      ]
     },
     "metadata": {},
     "output_type": "display_data"
    }
   ],
   "source": [
    "from pollution_change import pollution_change\n",
    "fig2 = pollution_change(df, source, year, option)"
   ]
  },
  {
   "cell_type": "code",
   "execution_count": null,
   "metadata": {
    "collapsed": true
   },
   "outputs": [],
   "source": []
  }
 ],
 "metadata": {
  "anaconda-cloud": {},
  "kernelspec": {
   "display_name": "Python [default]",
   "language": "python",
   "name": "python3"
  },
  "language_info": {
   "codemirror_mode": {
    "name": "ipython",
    "version": 3
   },
   "file_extension": ".py",
   "mimetype": "text/x-python",
   "name": "python",
   "nbconvert_exporter": "python",
   "pygments_lexer": "ipython3",
   "version": "3.5.2"
  }
 },
 "nbformat": 4,
 "nbformat_minor": 1
}
